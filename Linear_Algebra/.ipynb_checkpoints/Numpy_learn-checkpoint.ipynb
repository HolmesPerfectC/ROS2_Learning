{
 "cells": [
  {
   "cell_type": "code",
   "execution_count": 3,
   "id": "87864962-0a58-40df-94c6-7c6423a43316",
   "metadata": {},
   "outputs": [
    {
     "name": "stdout",
     "output_type": "stream",
     "text": [
      "hello world!\n"
     ]
    }
   ],
   "source": [
    "print(\"hello world!\")"
   ]
  },
  {
   "cell_type": "code",
   "execution_count": 5,
   "id": "340e0eb6-aef7-4007-87f1-d3f57b7aac4c",
   "metadata": {},
   "outputs": [],
   "source": [
    "import rclpy\n",
    "from rclpy.node import Node"
   ]
  },
  {
   "cell_type": "code",
   "execution_count": 6,
   "id": "ab658989-7cf6-4afc-8318-f81c870b615c",
   "metadata": {},
   "outputs": [],
   "source": [
    "rclpy.init()"
   ]
  },
  {
   "cell_type": "code",
   "execution_count": 7,
   "id": "834bf717-984d-4d1f-94bc-c949ff72fba9",
   "metadata": {},
   "outputs": [],
   "source": [
    "node = Node(\"li4\")\n",
    "node.get_logger().info(\"大家好，我是作家li4!\")"
   ]
  }
 ],
 "metadata": {
  "kernelspec": {
   "display_name": "Python 3 (ipykernel)",
   "language": "python",
   "name": "python3"
  },
  "language_info": {
   "codemirror_mode": {
    "name": "ipython",
    "version": 3
   },
   "file_extension": ".py",
   "mimetype": "text/x-python",
   "name": "python",
   "nbconvert_exporter": "python",
   "pygments_lexer": "ipython3",
   "version": "3.10.12"
  }
 },
 "nbformat": 4,
 "nbformat_minor": 5
}
